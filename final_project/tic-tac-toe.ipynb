{
 "cells": [
  {
   "cell_type": "code",
   "execution_count": 1,
   "metadata": {
    "ExecuteTime": {
     "end_time": "2019-11-16T17:08:39.416001Z",
     "start_time": "2019-11-16T17:08:38.689543Z"
    }
   },
   "outputs": [],
   "source": [
    "import json\n",
    "import numpy as np\n",
    "import matplotlib.pyplot as plt\n",
    "from IPython.display import clear_output"
   ]
  },
  {
   "cell_type": "code",
   "execution_count": 2,
   "metadata": {
    "ExecuteTime": {
     "end_time": "2019-11-16T17:08:39.456911Z",
     "start_time": "2019-11-16T17:08:39.418248Z"
    },
    "code_folding": [
     0
    ]
   },
   "outputs": [],
   "source": [
    "def log_progress(sequence, every=None, size=None, name='Items'):\n",
    "    from ipywidgets import IntProgress, HTML, VBox\n",
    "    from IPython.display import display\n",
    "\n",
    "    is_iterator = False\n",
    "    if size is None:\n",
    "        try:\n",
    "            size = len(sequence)\n",
    "        except TypeError:\n",
    "            is_iterator = True\n",
    "    if size is not None:\n",
    "        if every is None:\n",
    "            if size <= 200:\n",
    "                every = 1\n",
    "            else:\n",
    "                every = int(size / 200)     # every 0.5%\n",
    "    else:\n",
    "        assert every is not None, 'sequence is iterator, set every'\n",
    "\n",
    "    if is_iterator:\n",
    "        progress = IntProgress(min=0, max=1, value=1)\n",
    "        progress.bar_style = 'info'\n",
    "    else:\n",
    "        progress = IntProgress(min=0, max=size, value=0)\n",
    "    label = HTML()\n",
    "    box = VBox(children=[label, progress])\n",
    "    display(box)\n",
    "\n",
    "    index = 0\n",
    "    try:\n",
    "        for index, record in enumerate(sequence, 1):\n",
    "            if index == 1 or index % every == 0:\n",
    "                if is_iterator:\n",
    "                    label.value = '{name}: {index} / ?'.format(\n",
    "                        name=name,\n",
    "                        index=index\n",
    "                    )\n",
    "                else:\n",
    "                    progress.value = index\n",
    "                    label.value = u'{name}: {index} / {size}'.format(\n",
    "                        name=name,\n",
    "                        index=index,\n",
    "                        size=size\n",
    "                    )\n",
    "            yield record\n",
    "    except:\n",
    "        progress.bar_style = 'danger'\n",
    "        raise\n",
    "    else:\n",
    "        progress.bar_style = 'success'\n",
    "        progress.value = index\n",
    "        label.value = \"{name}: {index}\".format(\n",
    "            name=name,\n",
    "            index=str(index or '?')\n",
    "        )"
   ]
  },
  {
   "cell_type": "code",
   "execution_count": 3,
   "metadata": {
    "ExecuteTime": {
     "end_time": "2019-11-16T17:08:39.481574Z",
     "start_time": "2019-11-16T17:08:39.459546Z"
    },
    "code_folding": []
   },
   "outputs": [],
   "source": [
    "class TicTacToeSmall():\n",
    "    \n",
    "    def __init__(self):\n",
    "        self.board = np.zeros((3, 3), dtype=int)\n",
    "        self.side = None\n",
    "        self.progress = None\n",
    "        self.done = None\n",
    "        \n",
    "    def reset(self):\n",
    "        self.__init__()\n",
    "\n",
    "    @property\n",
    "    def hash_board(self):\n",
    "        return tuple([i for i in list(self.board.flatten())])\n",
    "        \n",
    "    def _check_align(self, array):\n",
    "        return 0 not in array and np.unique(array).size == 1\n",
    "        \n",
    "    def _eval_board(self):\n",
    "        \n",
    "        # 3 circles / crosses align in row\n",
    "        for row in self.board: \n",
    "            if self._check_align(row): return 'win'\n",
    "        \n",
    "        # 3 circles / crosses align in col\n",
    "        for col in self.board.T: \n",
    "            if self._check_align(col): return 'win'\n",
    "        \n",
    "        # 3 circles / crosses align in diagonal\n",
    "        diag = np.diagonal(self.board)\n",
    "        if self._check_align(diag): return 'win'\n",
    "        \n",
    "        # 3 circles / crosses align in opposite diagonal\n",
    "        oppo_diag = np.diagonal(np.fliplr(self.board))\n",
    "        if self._check_align(oppo_diag): return 'win'\n",
    "        \n",
    "        # game board filled\n",
    "        if 0 not in np.unique(self.board): return 'draw'\n",
    "        \n",
    "        return 'continue'\n",
    "    \n",
    "    def step(self, action, side):\n",
    "        \n",
    "        assert self.board[action] == 0, 'the position is filled'\n",
    "        \n",
    "        self.side = side\n",
    "        \n",
    "        if side == 'circle':\n",
    "            self.board[action] = -1\n",
    "        elif side == 'cross' :\n",
    "            self.board[action] = 1\n",
    "        \n",
    "        self.progress = self._eval_board()\n",
    "        if self.progress == 'continue':\n",
    "            reward = 0\n",
    "            done = False\n",
    "        elif self.progress == 'win':\n",
    "            reward = 1\n",
    "            done = True\n",
    "        elif self.progress == 'draw':\n",
    "            reward = 0\n",
    "            done = True\n",
    "        \n",
    "        return self.board, reward, done\n",
    "    \n",
    "    @property\n",
    "    def action_space(self):\n",
    "        adva nced_indices = np.where(self.board == 0)\n",
    "        actions = []\n",
    "        for x, y in zip(advanced_indices[0], advanced_indices[1]):\n",
    "            actions.append((x, y))\n",
    "        return actions\n",
    "    \n",
    "    def sample_action_space(self):\n",
    "        index = np.random.randint(len(self.action_space))\n",
    "        return self.action_space[index]"
   ]
  },
  {
   "cell_type": "code",
   "execution_count": 4,
   "metadata": {
    "ExecuteTime": {
     "end_time": "2019-11-16T17:08:39.489727Z",
     "start_time": "2019-11-16T17:08:39.484048Z"
    },
    "code_folding": [
     0
    ]
   },
   "outputs": [],
   "source": [
    "def switch_player(player):\n",
    "    if player == 'circle': return 'cross'\n",
    "    elif player == 'cross': return 'circle'"
   ]
  },
  {
   "cell_type": "code",
   "execution_count": 5,
   "metadata": {
    "ExecuteTime": {
     "end_time": "2019-11-16T17:08:39.497961Z",
     "start_time": "2019-11-16T17:08:39.491667Z"
    },
    "code_folding": [
     0
    ]
   },
   "outputs": [],
   "source": [
    "def board_to_str(board):\n",
    "        board_str = ''\n",
    "        for i, row in enumerate(board):\n",
    "            for item in row:\n",
    "                if item == 0:\n",
    "                    board_str += ' '\n",
    "                elif item == -1:\n",
    "                    board_str += 'o'\n",
    "                elif item == 1:\n",
    "                    board_str += 'x'\n",
    "            if i < 2:\n",
    "                board_str += '\\n'\n",
    "        return board_str"
   ]
  },
  {
   "cell_type": "markdown",
   "metadata": {},
   "source": [
    "## Random round"
   ]
  },
  {
   "cell_type": "code",
   "execution_count": 6,
   "metadata": {
    "ExecuteTime": {
     "end_time": "2019-11-16T17:08:40.157572Z",
     "start_time": "2019-11-16T17:08:39.738120Z"
    }
   },
   "outputs": [
    {
     "name": "stdout",
     "output_type": "stream",
     "text": [
      "xox\n",
      "oxx\n",
      "ooo\n",
      "Last player: circle\n",
      "Game progress: circle wins\n"
     ]
    }
   ],
   "source": [
    "for i in range(500):\n",
    "    \n",
    "    game = TicTacToeSmall()\n",
    "    done = False\n",
    "    player = np.random.choice(['circle', 'cross'])\n",
    "\n",
    "    while done != True:\n",
    "        action = game.sample_action_space()\n",
    "        board, reward, done = game.step(action, player)\n",
    "        player = switch_player(player)\n",
    "        \n",
    "print(board_to_str(game.board))\n",
    "print(f'Last player: {game.side}')\n",
    "if game.progress == 'draw':\n",
    "    print(f'Game progress: {game.progress}')\n",
    "elif game.progress == 'win':\n",
    "    print(f'Game progress: {game.side} {game.progress}s')"
   ]
  },
  {
   "cell_type": "code",
   "execution_count": 7,
   "metadata": {
    "ExecuteTime": {
     "end_time": "2019-11-16T17:08:40.165944Z",
     "start_time": "2019-11-16T17:08:40.160427Z"
    }
   },
   "outputs": [],
   "source": [
    "# for i in range(num_iters):\n",
    "    # initialize S\n",
    "    # done = False\n",
    "    # while not done: (traversal loop, same for tabular and approx method)\n",
    "        # pick an action according to qsa\n",
    "        # episode_sa.append(s, a)\n",
    "        # s, r, done = step(s, a); episode_r.append(r)\n",
    "    # cumulative_reward = 0\n",
    "    # for t in reversed(range(len(episode_r))):\n",
    "        # cumulative_reward = cumulative_reward + episode_r[t]\n",
    "        # if if episode_sa[t] not in episode_sa[:t]:\n",
    "        #    update_total_returns\n",
    "        #    update_total_occurrence\n",
    "        #    update_mc_estimate at specific qsa spot\n",
    "        #    act greedily wrt qsa"
   ]
  },
  {
   "cell_type": "code",
   "execution_count": 8,
   "metadata": {
    "ExecuteTime": {
     "end_time": "2019-11-16T17:08:40.281060Z",
     "start_time": "2019-11-16T17:08:40.270911Z"
    }
   },
   "outputs": [
    {
     "name": "stdout",
     "output_type": "stream",
     "text": [
      "0 1 2\n",
      "1 2 3\n"
     ]
    }
   ],
   "source": [
    "a = {1:2, 2:3}\n",
    "for i, (j, k) in enumerate(a.items()):\n",
    "    print(i, j, k)"
   ]
  },
  {
   "cell_type": "code",
   "execution_count": 9,
   "metadata": {
    "ExecuteTime": {
     "end_time": "2019-11-16T17:08:40.609234Z",
     "start_time": "2019-11-16T17:08:40.596361Z"
    }
   },
   "outputs": [],
   "source": [
    "class Callback():\n",
    "    \n",
    "    def on_train_begin(self, logs={}, plot=False):\n",
    "        self.i = 0\n",
    "        self.x = []\n",
    "        self.p1_wins = 0\n",
    "        self.p2_wins = 0\n",
    "        self.wins_ratios = []\n",
    "        self.lower_baselines = np.ones((30, ))\n",
    "        self.upper_baselines = np.ones((30, )) * 1.2\n",
    "        if plot:\n",
    "            self.fig = plt.figure()\n",
    "\n",
    "    def on_iter_end(self, logs={}, plot=False):\n",
    "        \n",
    "        self.x.append(self.i)\n",
    "        self.i += 1\n",
    "        \n",
    "        if logs.get('p1_reward') == 1: self.p1_wins += 1\n",
    "        elif logs.get('p2_reward') == 1: self.p2_wins += 1\n",
    "        \n",
    "        self.wins_ratios.append(self.p1_wins / (self.p2_wins + 0.00001))\n",
    "        \n",
    "        if plot:\n",
    "            clear_output(wait=True)\n",
    "\n",
    "            plt.plot(self.x, self.wins_ratios, label=\"p1_wins/p2_wins\")\n",
    "            plt.plot(self.x, self.lower_baselines[:len(self.x)], label=\"lower baseline\")\n",
    "            plt.plot(self.x, self.upper_baselines[:len(self.x)], label=\"upper baseline\")\n",
    "            plt.legend(loc='lower right')\n",
    "            plt.show()"
   ]
  },
  {
   "cell_type": "code",
   "execution_count": 10,
   "metadata": {
    "ExecuteTime": {
     "end_time": "2019-11-16T17:08:41.175551Z",
     "start_time": "2019-11-16T17:08:41.137985Z"
    }
   },
   "outputs": [],
   "source": [
    "class Learner(Callback):\n",
    "\n",
    "    def __init__(self, game, num_iters, epsilon, opponent='random', method='tabular'):\n",
    "        self.game = game\n",
    "        self.epsilon = epsilon\n",
    "        self.num_iters = num_iters\n",
    "        self.total_returns = {}\n",
    "        self.total_occurrences = {}\n",
    "        self.method = method\n",
    "        self.opponent = opponent\n",
    "        if self.method == 'tabular': self.qsa_table = {}\n",
    "        elif self.method == 'nn': self.nn = None\n",
    "        \n",
    "    def reset(self):\n",
    "        self.__init__()\n",
    "        \n",
    "    def _switch_player(self, player):\n",
    "        if player == 'circle': return 'cross'\n",
    "        elif player == 'cross': return 'circle'\n",
    "    \n",
    "    def _update_total_returns(self, sa_pair, cumulative_rewards):\n",
    "        if sa_pair in self.total_returns.keys(): self.total_returns[sa_pair] += cumulative_rewards\n",
    "        else: self.total_returns[sa_pair] = cumulative_rewards\n",
    "        \n",
    "    def _update_total_occurrences(self, sa_pair):\n",
    "        if sa_pair in self.total_occurrences.keys(): self.total_occurrences[sa_pair] += 1\n",
    "        else: self.total_occurrences[sa_pair] = 1\n",
    "    \n",
    "    def _update_qsa_table(self, sa_pair, cumulative_reward):\n",
    "        self._update_total_returns(sa_pair, cumulative_reward)\n",
    "        self._update_total_occurrences(sa_pair)\n",
    "        mc_estimate = self.total_returns[sa_pair] / self.total_occurrences[sa_pair]\n",
    "        \n",
    "        s, a = sa_pair\n",
    "        if s in list(self.qsa_table.keys()):\n",
    "            self.qsa_table[s][a] = mc_estimate\n",
    "        else:\n",
    "            self.qsa_table[s] = {}\n",
    "            self.qsa_table[s][a] = mc_estimate\n",
    "        \n",
    "    def _reward_backup(self, episode_sa, episode_r):\n",
    "        cumulative_reward = 0\n",
    "        for t in reversed(range(len(episode_r))):\n",
    "            cumulative_reward = cumulative_reward + episode_r[t]\n",
    "            if episode_sa[t] not in episode_sa[:t]:\n",
    "                if self.method == 'tabular':\n",
    "                    self._update_qsa_table(episode_sa[t], cumulative_reward)\n",
    "                    \n",
    "    def _get_greedy_action(self, action_values):\n",
    "        max_value = -np.inf\n",
    "        for i, (action, value) in enumerate(action_values.items()):\n",
    "            if value >= max_value: \n",
    "                max_value = value\n",
    "                greedy_action = action\n",
    "        return greedy_action\n",
    "          \n",
    "    def _select_action(self, s):\n",
    "        if s not in self.qsa_table.keys(): \n",
    "            action = self.game.sample_action_space()\n",
    "        else:\n",
    "            greedy_action = self._get_greedy_action(self.qsa_table[s])\n",
    "            \n",
    "            cordinality = len(self.game.action_space)\n",
    "            greedy_index = self.game.action_space.index(greedy_action)\n",
    "            \n",
    "            probas = np.ones((cordinality, ))\n",
    "            probas = probas * self.epsilon / cordinality\n",
    "            probas[greedy_index] = 1 - self.epsilon + self.epsilon / 4\n",
    "            \n",
    "            action_index = np.random.choice(np.arange(cordinality), p=probas/np.sum(probas))\n",
    "            action = self.game.action_space[action_index]\n",
    "        return action\n",
    "            \n",
    "    def train(self):\n",
    "        self.on_train_begin(plot=False)\n",
    "        for i in log_progress(range(self.num_iters), every=100, size=None, name='Games played'):\n",
    "            \n",
    "            self.game.reset()\n",
    "            s = self.game.hash_board\n",
    "            done = False\n",
    "            \n",
    "            p = np.random.choice(['circle', 'cross'])\n",
    "            p1_episode_sa, p1_episode_r = [], []\n",
    "            p2_episode_sa, p2_episode_r = [], []\n",
    "            \n",
    "            while True:\n",
    "                \n",
    "                if p == 'circle': \n",
    "                    \n",
    "                    a = self._select_action(s)\n",
    "                    _, r, done = self.game.step(a, side=p)\n",
    "                    p1_episode_sa.append((s, a)); p1_episode_r.append(r)\n",
    "                    s = self.game.hash_board  # for next agent to take action\n",
    "                \n",
    "                elif p == 'cross': \n",
    "                    \n",
    "                    if self.opponent == 'random':\n",
    "                        \n",
    "                        a = self.game.sample_action_space()\n",
    "                        _, r, done = self.game.step(a, side=p)\n",
    "                        p2_episode_sa.append((s, a)); p2_episode_r.append(r)\n",
    "                    \n",
    "                    elif self.opponent == 'learner':\n",
    "                        \n",
    "                        self.game.board = self.game.board * -1  # change perspective\n",
    "                        s_inverted = self.game.hash_board\n",
    "                        self.game.board = self.game.board * -1  # change perspective\n",
    "                        a = self._select_action(s_inverted)\n",
    "                        _, r, done = self.game.step(a, side=p)\n",
    "                        p2_episode_sa.append((s_inverted, a)); p2_episode_r.append(r)\n",
    "                    \n",
    "                    s = self.game.hash_board  # for next agent to take action\n",
    "                \n",
    "                if done:\n",
    "                    \n",
    "                    if self.game.progress == 'draw':\n",
    "                        p1_episode_r[-1] = 0.5; p2_episode_r[-1] = 0.5  # we don't what to have losing and drawing being equally bad\n",
    "                    elif self.game.progress == 'win':\n",
    "                        if p == 'circle': p2_episode_r[-1] = -1\n",
    "                        elif p == 'cross': p1_episode_r[-1] = -1\n",
    "                    break\n",
    "                \n",
    "                p = self._switch_player(p)\n",
    "                    \n",
    "            self._reward_backup(p1_episode_sa, p1_episode_r)\n",
    "            if self.opponent == 'learner': self._reward_backup(p2_episode_sa, p2_episode_r)\n",
    "            \n",
    "            self.on_iter_end(logs={'p1_reward':p1_episode_r[-1], 'p2_reward':p2_episode_r[-1]}, plot=False)\n",
    "            \n",
    "    def interact(self):\n",
    "        clear_output()\n",
    "        human_first = input('Circle always goes first; do you want to be \"circle\"? [y or n]')\n",
    "        human_player = 'circle' if human_first == 'y' else 'cross'\n",
    "        current_player = 'circle'\n",
    "        self.game.reset()\n",
    "        done = False\n",
    "        \n",
    "        clear_output(); print(board_to_str(self.game.board))\n",
    "        while True:\n",
    "\n",
    "            if human_player == current_player: action = tuple(map(int, (input('Your move: ').split(','))))\n",
    "            else: \n",
    "                if human_player == 'circle':  # AI plays cross\n",
    "                    self.game.board = self.game.board * -1\n",
    "                    action = self._select_action(self.game.hash_board)\n",
    "                    self.game.board = self.game.board * -1\n",
    "                else:\n",
    "                    action = self._select_action(self.game.hash_board)\n",
    "                        \n",
    "            _, _, done = self.game.step(action, current_player)\n",
    "\n",
    "            clear_output(); print(board_to_str(self.game.board))\n",
    "\n",
    "            if done: break\n",
    "\n",
    "            current_player = self._switch_player(current_player)\n",
    "\n",
    "        if self.game.progress == 'draw': print('Draw.')\n",
    "        elif self.game.progress == 'win': print(f'{current_player} wins!')\n",
    "\n",
    "        again = input('Would you like to play again? [y or n]')\n",
    "        if again == 'y': self.interact()\n",
    "        elif again == 'n': print('See you!'); return"
   ]
  },
  {
   "cell_type": "code",
   "execution_count": 11,
   "metadata": {
    "ExecuteTime": {
     "end_time": "2019-11-16T17:02:19.675455Z",
     "start_time": "2019-11-16T16:58:18.817287Z"
    }
   },
   "outputs": [
    {
     "data": {
      "application/vnd.jupyter.widget-view+json": {
       "model_id": "a4f65b5197844e55b2f50a16138f0606",
       "version_major": 2,
       "version_minor": 0
      },
      "text/plain": [
       "VBox(children=(HTML(value=''), IntProgress(value=0, max=100000)))"
      ]
     },
     "metadata": {},
     "output_type": "display_data"
    }
   ],
   "source": [
    "learner = Learner(TicTacToeSmall(), num_iters=100000, epsilon=0.1, opponent='learner', method='tabular')\n",
    "learner.train()"
   ]
  },
  {
   "cell_type": "code",
   "execution_count": 12,
   "metadata": {
    "ExecuteTime": {
     "end_time": "2019-11-16T17:17:29.696416Z",
     "start_time": "2019-11-16T17:17:29.538665Z"
    }
   },
   "outputs": [
    {
     "data": {
      "image/png": "[encoded data removed]",
      "text/plain": [
       "<Figure size 432x288 with 1 Axes>"
      ]
     },
     "metadata": {
      "needs_background": "light"
     },
     "output_type": "display_data"
    }
   ],
   "source": [
    "plt.title('Win ratio between player 1 (learner) and 2 (learner)')\n",
    "plt.xlabel('Rounds played'); plt.ylabel('Ratio')\n",
    "plt.plot(learner.x[100:], learner.wins_ratios[100:])\n",
    "plt.grid()\n",
    "plt.savefig('100000-selfPlay-v1.png')"
   ]
  },
  {
   "cell_type": "code",
   "execution_count": 13,
   "metadata": {
    "ExecuteTime": {
     "end_time": "2019-11-16T17:06:31.917485Z",
     "start_time": "2019-11-16T17:06:31.835000Z"
    }
   },
   "outputs": [],
   "source": [
    "output_dict = {}\n",
    "for k, v in learner.qsa_table.items():\n",
    "    output_dict[str(k)] = {}\n",
    "    for k1, v1 in v.items():\n",
    "        output_dict[str(k)][str(k1)] = str(v1)"
   ]
  },
  {
   "cell_type": "code",
   "execution_count": 14,
   "metadata": {
    "ExecuteTime": {
     "end_time": "2019-11-16T17:06:34.296443Z",
     "start_time": "2019-11-16T17:06:34.260177Z"
    }
   },
   "outputs": [],
   "source": [
    "# https://stackoverflow.com/questions/7100125/storing-python-dictionaries\n",
    "with open('100000-selfPlay-qsaTable-v1.json', 'w') as fp:\n",
    "    json.dump(output_dict, fp)"
   ]
  },
  {
   "cell_type": "code",
   "execution_count": 15,
   "metadata": {
    "ExecuteTime": {
     "end_time": "2019-11-16T17:08:48.117770Z",
     "start_time": "2019-11-16T17:08:48.108834Z"
    }
   },
   "outputs": [],
   "source": [
    "with open('100000-selfPlay-qsaTable-v1.json', 'r') as fp:\n",
    "    input_dict = json.load(fp)"
   ]
  },
  {
   "cell_type": "code",
   "execution_count": 16,
   "metadata": {
    "ExecuteTime": {
     "end_time": "2019-11-16T17:08:48.413706Z",
     "start_time": "2019-11-16T17:08:48.409612Z"
    }
   },
   "outputs": [],
   "source": [
    "# turn off non-greedy actions during game\n",
    "learner_from_json = Learner(TicTacToeSmall(), num_iters=0, epsilon=0, opponent='random', method='tabular')"
   ]
  },
  {
   "cell_type": "code",
   "execution_count": 17,
   "metadata": {
    "ExecuteTime": {
     "end_time": "2019-11-16T17:08:49.089000Z",
     "start_time": "2019-11-16T17:08:49.082667Z"
    }
   },
   "outputs": [],
   "source": [
    "def string_tuple_to_tuple1(string_tuple):\n",
    "    a, b = map(int, tuple(string_tuple[1:-1].split(', ')))\n",
    "    return a, b"
   ]
  },
  {
   "cell_type": "code",
   "execution_count": 18,
   "metadata": {
    "ExecuteTime": {
     "end_time": "2019-11-16T17:08:49.455500Z",
     "start_time": "2019-11-16T17:08:49.446733Z"
    }
   },
   "outputs": [],
   "source": [
    "def string_tuple_to_tuple2(string_tuple):\n",
    "    a, b, c, d, e, f, g, h, i = map(int, tuple(string_tuple[1:-1].split(', ')))\n",
    "    return a, b, c, d, e, f, g, h, i"
   ]
  },
  {
   "cell_type": "code",
   "execution_count": 19,
   "metadata": {
    "ExecuteTime": {
     "end_time": "2019-11-16T17:08:56.177212Z",
     "start_time": "2019-11-16T17:08:56.121148Z"
    }
   },
   "outputs": [],
   "source": [
    "for k, v in input_dict.items():\n",
    "    learner_from_json.qsa_table[string_tuple_to_tuple2(k)] = {}\n",
    "    for k1, v1 in v.items():\n",
    "        learner_from_json.qsa_table[string_tuple_to_tuple2(k)][string_tuple_to_tuple1(k1)] = float(v1)"
   ]
  },
  {
   "cell_type": "code",
   "execution_count": 20,
   "metadata": {
    "ExecuteTime": {
     "end_time": "2019-11-16T17:08:56.549663Z",
     "start_time": "2019-11-16T17:08:56.534577Z"
    }
   },
   "outputs": [
    {
     "data": {
      "text/plain": [
       "array([[0, 0, 0],\n",
       "       [0, 0, 0],\n",
       "       [0, 0, 0]])"
      ]
     },
     "execution_count": 20,
     "metadata": {},
     "output_type": "execute_result"
    }
   ],
   "source": [
    "learner_from_json.game.board"
   ]
  },
  {
   "cell_type": "code",
   "execution_count": 21,
   "metadata": {
    "ExecuteTime": {
     "end_time": "2019-11-16T17:08:57.076614Z",
     "start_time": "2019-11-16T17:08:57.071014Z"
    },
    "scrolled": true
   },
   "outputs": [],
   "source": [
    "assert learner_from_json.game.hash_board in learner_from_json.qsa_table.keys()"
   ]
  },
  {
   "cell_type": "code",
   "execution_count": 25,
   "metadata": {
    "ExecuteTime": {
     "end_time": "2019-11-16T17:17:28.209351Z",
     "start_time": "2019-11-16T17:16:57.548693Z"
    }
   },
   "outputs": [
    {
     "ename": "KeyboardInterrupt",
     "evalue": "",
     "output_type": "error",
     "traceback": [
      "\u001b[0;31m---------------------------------------------------------------------------\u001b[0m",
      "\u001b[0;31mKeyboardInterrupt\u001b[0m                         Traceback (most recent call last)",
      "\u001b[0;32m~/anaconda3/envs/scag/lib/python3.6/site-packages/ipykernel/kernelbase.py\u001b[0m in \u001b[0;36m_input_request\u001b[0;34m(self, prompt, ident, parent, password)\u001b[0m\n\u001b[1;32m    877\u001b[0m             \u001b[0;32mtry\u001b[0m\u001b[0;34m:\u001b[0m\u001b[0;34m\u001b[0m\u001b[0;34m\u001b[0m\u001b[0m\n\u001b[0;32m--> 878\u001b[0;31m                 \u001b[0mident\u001b[0m\u001b[0;34m,\u001b[0m \u001b[0mreply\u001b[0m \u001b[0;34m=\u001b[0m \u001b[0mself\u001b[0m\u001b[0;34m.\u001b[0m\u001b[0msession\u001b[0m\u001b[0;34m.\u001b[0m\u001b[0mrecv\u001b[0m\u001b[0;34m(\u001b[0m\u001b[0mself\u001b[0m\u001b[0;34m.\u001b[0m\u001b[0mstdin_socket\u001b[0m\u001b[0;34m,\u001b[0m \u001b[0;36m0\u001b[0m\u001b[0;34m)\u001b[0m\u001b[0;34m\u001b[0m\u001b[0;34m\u001b[0m\u001b[0m\n\u001b[0m\u001b[1;32m    879\u001b[0m             \u001b[0;32mexcept\u001b[0m \u001b[0mException\u001b[0m\u001b[0;34m:\u001b[0m\u001b[0;34m\u001b[0m\u001b[0;34m\u001b[0m\u001b[0m\n",
      "\u001b[0;32m~/anaconda3/envs/scag/lib/python3.6/site-packages/jupyter_client/session.py\u001b[0m in \u001b[0;36mrecv\u001b[0;34m(self, socket, mode, content, copy)\u001b[0m\n\u001b[1;32m    802\u001b[0m         \u001b[0;32mtry\u001b[0m\u001b[0;34m:\u001b[0m\u001b[0;34m\u001b[0m\u001b[0;34m\u001b[0m\u001b[0m\n\u001b[0;32m--> 803\u001b[0;31m             \u001b[0mmsg_list\u001b[0m \u001b[0;34m=\u001b[0m \u001b[0msocket\u001b[0m\u001b[0;34m.\u001b[0m\u001b[0mrecv_multipart\u001b[0m\u001b[0;34m(\u001b[0m\u001b[0mmode\u001b[0m\u001b[0;34m,\u001b[0m \u001b[0mcopy\u001b[0m\u001b[0;34m=\u001b[0m\u001b[0mcopy\u001b[0m\u001b[0;34m)\u001b[0m\u001b[0;34m\u001b[0m\u001b[0;34m\u001b[0m\u001b[0m\n\u001b[0m\u001b[1;32m    804\u001b[0m         \u001b[0;32mexcept\u001b[0m \u001b[0mzmq\u001b[0m\u001b[0;34m.\u001b[0m\u001b[0mZMQError\u001b[0m \u001b[0;32mas\u001b[0m \u001b[0me\u001b[0m\u001b[0;34m:\u001b[0m\u001b[0;34m\u001b[0m\u001b[0;34m\u001b[0m\u001b[0m\n",
      "\u001b[0;32m~/anaconda3/envs/scag/lib/python3.6/site-packages/zmq/sugar/socket.py\u001b[0m in \u001b[0;36mrecv_multipart\u001b[0;34m(self, flags, copy, track)\u001b[0m\n\u001b[1;32m    469\u001b[0m         \"\"\"\n\u001b[0;32m--> 470\u001b[0;31m         \u001b[0mparts\u001b[0m \u001b[0;34m=\u001b[0m \u001b[0;34m[\u001b[0m\u001b[0mself\u001b[0m\u001b[0;34m.\u001b[0m\u001b[0mrecv\u001b[0m\u001b[0;34m(\u001b[0m\u001b[0mflags\u001b[0m\u001b[0;34m,\u001b[0m \u001b[0mcopy\u001b[0m\u001b[0;34m=\u001b[0m\u001b[0mcopy\u001b[0m\u001b[0;34m,\u001b[0m \u001b[0mtrack\u001b[0m\u001b[0;34m=\u001b[0m\u001b[0mtrack\u001b[0m\u001b[0;34m)\u001b[0m\u001b[0;34m]\u001b[0m\u001b[0;34m\u001b[0m\u001b[0;34m\u001b[0m\u001b[0m\n\u001b[0m\u001b[1;32m    471\u001b[0m         \u001b[0;31m# have first part already, only loop while more to receive\u001b[0m\u001b[0;34m\u001b[0m\u001b[0;34m\u001b[0m\u001b[0;34m\u001b[0m\u001b[0m\n",
      "\u001b[0;32mzmq/backend/cython/socket.pyx\u001b[0m in \u001b[0;36mzmq.backend.cython.socket.Socket.recv\u001b[0;34m()\u001b[0m\n",
      "\u001b[0;32mzmq/backend/cython/socket.pyx\u001b[0m in \u001b[0;36mzmq.backend.cython.socket.Socket.recv\u001b[0;34m()\u001b[0m\n",
      "\u001b[0;32mzmq/backend/cython/socket.pyx\u001b[0m in \u001b[0;36mzmq.backend.cython.socket._recv_copy\u001b[0;34m()\u001b[0m\n",
      "\u001b[0;32m~/anaconda3/envs/scag/lib/python3.6/site-packages/zmq/backend/cython/checkrc.pxd\u001b[0m in \u001b[0;36mzmq.backend.cython.checkrc._check_rc\u001b[0;34m()\u001b[0m\n",
      "\u001b[0;31mKeyboardInterrupt\u001b[0m: ",
      "\nDuring handling of the above exception, another exception occurred:\n",
      "\u001b[0;31mKeyboardInterrupt\u001b[0m                         Traceback (most recent call last)",
      "\u001b[0;32m<ipython-input-25-3bd5ff4f8be3>\u001b[0m in \u001b[0;36m<module>\u001b[0;34m\u001b[0m\n\u001b[0;32m----> 1\u001b[0;31m \u001b[0mlearner_from_json\u001b[0m\u001b[0;34m.\u001b[0m\u001b[0minteract\u001b[0m\u001b[0;34m(\u001b[0m\u001b[0;34m)\u001b[0m\u001b[0;34m\u001b[0m\u001b[0;34m\u001b[0m\u001b[0m\n\u001b[0m",
      "\u001b[0;32m<ipython-input-10-632fd7454201>\u001b[0m in \u001b[0;36minteract\u001b[0;34m(self)\u001b[0m\n\u001b[1;32m    130\u001b[0m     \u001b[0;32mdef\u001b[0m \u001b[0minteract\u001b[0m\u001b[0;34m(\u001b[0m\u001b[0mself\u001b[0m\u001b[0;34m)\u001b[0m\u001b[0;34m:\u001b[0m\u001b[0;34m\u001b[0m\u001b[0;34m\u001b[0m\u001b[0m\n\u001b[1;32m    131\u001b[0m         \u001b[0mclear_output\u001b[0m\u001b[0;34m(\u001b[0m\u001b[0;34m)\u001b[0m\u001b[0;34m\u001b[0m\u001b[0;34m\u001b[0m\u001b[0m\n\u001b[0;32m--> 132\u001b[0;31m         \u001b[0mhuman_first\u001b[0m \u001b[0;34m=\u001b[0m \u001b[0minput\u001b[0m\u001b[0;34m(\u001b[0m\u001b[0;34m'Circle always goes first; do you want to be \"circle\"? [y or n]'\u001b[0m\u001b[0;34m)\u001b[0m\u001b[0;34m\u001b[0m\u001b[0;34m\u001b[0m\u001b[0m\n\u001b[0m\u001b[1;32m    133\u001b[0m         \u001b[0mhuman_player\u001b[0m \u001b[0;34m=\u001b[0m \u001b[0;34m'circle'\u001b[0m \u001b[0;32mif\u001b[0m \u001b[0mhuman_first\u001b[0m \u001b[0;34m==\u001b[0m \u001b[0;34m'y'\u001b[0m \u001b[0;32melse\u001b[0m \u001b[0;34m'cross'\u001b[0m\u001b[0;34m\u001b[0m\u001b[0;34m\u001b[0m\u001b[0m\n\u001b[1;32m    134\u001b[0m         \u001b[0mcurrent_player\u001b[0m \u001b[0;34m=\u001b[0m \u001b[0;34m'circle'\u001b[0m\u001b[0;34m\u001b[0m\u001b[0;34m\u001b[0m\u001b[0m\n",
      "\u001b[0;32m~/anaconda3/envs/scag/lib/python3.6/site-packages/ipykernel/kernelbase.py\u001b[0m in \u001b[0;36mraw_input\u001b[0;34m(self, prompt)\u001b[0m\n\u001b[1;32m    851\u001b[0m             \u001b[0mself\u001b[0m\u001b[0;34m.\u001b[0m\u001b[0m_parent_ident\u001b[0m\u001b[0;34m,\u001b[0m\u001b[0;34m\u001b[0m\u001b[0;34m\u001b[0m\u001b[0m\n\u001b[1;32m    852\u001b[0m             \u001b[0mself\u001b[0m\u001b[0;34m.\u001b[0m\u001b[0m_parent_header\u001b[0m\u001b[0;34m,\u001b[0m\u001b[0;34m\u001b[0m\u001b[0;34m\u001b[0m\u001b[0m\n\u001b[0;32m--> 853\u001b[0;31m             \u001b[0mpassword\u001b[0m\u001b[0;34m=\u001b[0m\u001b[0;32mFalse\u001b[0m\u001b[0;34m,\u001b[0m\u001b[0;34m\u001b[0m\u001b[0;34m\u001b[0m\u001b[0m\n\u001b[0m\u001b[1;32m    854\u001b[0m         )\n\u001b[1;32m    855\u001b[0m \u001b[0;34m\u001b[0m\u001b[0m\n",
      "\u001b[0;32m~/anaconda3/envs/scag/lib/python3.6/site-packages/ipykernel/kernelbase.py\u001b[0m in \u001b[0;36m_input_request\u001b[0;34m(self, prompt, ident, parent, password)\u001b[0m\n\u001b[1;32m    881\u001b[0m             \u001b[0;32mexcept\u001b[0m \u001b[0mKeyboardInterrupt\u001b[0m\u001b[0;34m:\u001b[0m\u001b[0;34m\u001b[0m\u001b[0;34m\u001b[0m\u001b[0m\n\u001b[1;32m    882\u001b[0m                 \u001b[0;31m# re-raise KeyboardInterrupt, to truncate traceback\u001b[0m\u001b[0;34m\u001b[0m\u001b[0;34m\u001b[0m\u001b[0;34m\u001b[0m\u001b[0m\n\u001b[0;32m--> 883\u001b[0;31m                 \u001b[0;32mraise\u001b[0m \u001b[0mKeyboardInterrupt\u001b[0m\u001b[0;34m\u001b[0m\u001b[0;34m\u001b[0m\u001b[0m\n\u001b[0m\u001b[1;32m    884\u001b[0m             \u001b[0;32melse\u001b[0m\u001b[0;34m:\u001b[0m\u001b[0;34m\u001b[0m\u001b[0;34m\u001b[0m\u001b[0m\n\u001b[1;32m    885\u001b[0m                 \u001b[0;32mbreak\u001b[0m\u001b[0;34m\u001b[0m\u001b[0;34m\u001b[0m\u001b[0m\n",
      "\u001b[0;31mKeyboardInterrupt\u001b[0m: "
     ]
    }
   ],
   "source": [
    "learner_from_json.interact()"
   ]
  },
  {
   "cell_type": "code",
   "execution_count": null,
   "metadata": {},
   "outputs": [],
   "source": []
  },
  {
   "cell_type": "code",
   "execution_count": null,
   "metadata": {},
   "outputs": [],
   "source": []
  },
  {
   "cell_type": "code",
   "execution_count": null,
   "metadata": {},
   "outputs": [],
   "source": []
  },
  {
   "cell_type": "code",
   "execution_count": null,
   "metadata": {},
   "outputs": [],
   "source": []
  }
 ],
 "metadata": {
  "kernelspec": {
   "display_name": "Python 3",
   "language": "python",
   "name": "python3"
  },
  "language_info": {
   "codemirror_mode": {
    "name": "ipython",
    "version": 3
   },
   "file_extension": ".py",
   "mimetype": "text/x-python",
   "name": "python",
   "nbconvert_exporter": "python",
   "pygments_lexer": "ipython3",
   "version": "3.6.8"
  },
  "toc": {
   "base_numbering": 1,
   "nav_menu": {},
   "number_sections": false,
   "sideBar": true,
   "skip_h1_title": false,
   "title_cell": "Table of Contents",
   "title_sidebar": "Contents",
   "toc_cell": false,
   "toc_position": {},
   "toc_section_display": true,
   "toc_window_display": false
  }
 },
 "nbformat": 4,
 "nbformat_minor": 2
}
