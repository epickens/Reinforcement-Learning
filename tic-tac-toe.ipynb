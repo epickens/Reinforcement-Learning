{
 "cells": [
  {
   "cell_type": "code",
   "execution_count": 175,
   "metadata": {
    "ExecuteTime": {
     "end_time": "2019-11-12T18:05:47.127388Z",
     "start_time": "2019-11-12T18:05:47.124229Z"
    }
   },
   "outputs": [],
   "source": [
    "import numpy as np"
   ]
  },
  {
   "cell_type": "code",
   "execution_count": 176,
   "metadata": {
    "ExecuteTime": {
     "end_time": "2019-11-12T18:05:47.269435Z",
     "start_time": "2019-11-12T18:05:47.251169Z"
    },
    "code_folding": [
     2,
     5,
     8,
     31,
     56
    ]
   },
   "outputs": [],
   "source": [
    "class TicTacToeSmall():\n",
    "    \n",
    "    def __init__(self):\n",
    "        self.board = np.zeros((3, 3))\n",
    "        \n",
    "    def _check_align(self, array):\n",
    "        return 0 not in array and np.unique(array).size == 1\n",
    "        \n",
    "    def _eval_board(self):\n",
    "        \n",
    "        # 3 circles / crosses align in row\n",
    "        for row in self.board: \n",
    "            if self._check_align(row): return 'win'\n",
    "        \n",
    "        # 3 circles / crosses align in col\n",
    "        for col in self.board.T: \n",
    "            if self._check_align(col): return 'win'\n",
    "        \n",
    "        # 3 circles / crosses align in diagonal\n",
    "        diag = np.diagonal(self.board)\n",
    "        if self._check_align(diag): return 'win'\n",
    "        \n",
    "        # 3 circles / crosses align in opposite diagonal\n",
    "        oppo_diag = np.diagonal(np.fliplr(self.board))\n",
    "        if self._check_align(oppo_diag): return 'win'\n",
    "        \n",
    "        # game board filled\n",
    "        if 0 not in np.unique(self.board): return 'draw'\n",
    "        \n",
    "        return 'continue'\n",
    "    \n",
    "    def step(self, action, side):\n",
    "        \n",
    "        assert self.board[action] == 0, 'the position is filled'\n",
    "        \n",
    "        self.side = side\n",
    "        \n",
    "        if side == 'circle':\n",
    "            self.board[action] = -1\n",
    "        elif side == 'cross' :\n",
    "            self.board[action] = 1\n",
    "        \n",
    "        self.progress = self._eval_board()\n",
    "        if self.progress == 'continue':\n",
    "            reward = 0\n",
    "            done = False\n",
    "        elif self.progress == 'win':\n",
    "            reward = 1\n",
    "            done = True\n",
    "        elif self.progress == 'draw':\n",
    "            reward = 0\n",
    "            done = True\n",
    "        \n",
    "        return self.board, reward, done\n",
    "    \n",
    "    @property\n",
    "    def action_space(self):\n",
    "        advanced_indices = np.where(self.board == 0)\n",
    "        actions = []\n",
    "        for x, y in zip(advanced_indices[0], advanced_indices[1]):\n",
    "            actions.append((x, y))\n",
    "        return actions"
   ]
  },
  {
   "cell_type": "code",
   "execution_count": 177,
   "metadata": {
    "ExecuteTime": {
     "end_time": "2019-11-12T18:05:47.394334Z",
     "start_time": "2019-11-12T18:05:47.390621Z"
    }
   },
   "outputs": [],
   "source": [
    "def switch_player(player):\n",
    "    if player == 'circle': return 'cross'\n",
    "    elif player == 'cross': return 'circle'"
   ]
  },
  {
   "cell_type": "code",
   "execution_count": 182,
   "metadata": {
    "ExecuteTime": {
     "end_time": "2019-11-12T19:01:55.467872Z",
     "start_time": "2019-11-12T19:01:55.462441Z"
    },
    "code_folding": [
     0
    ]
   },
   "outputs": [],
   "source": [
    "def board_to_str(board):\n",
    "        board_str = ''\n",
    "        for i, row in enumerate(board):\n",
    "            for item in row:\n",
    "                if item == 0:\n",
    "                    board_str += ' '\n",
    "                elif item == -1:\n",
    "                    board_str += 'o'\n",
    "                elif item == 1:\n",
    "                    board_str += 'x'\n",
    "            if i < 2:\n",
    "                board_str += '\\n'\n",
    "        return board_str"
   ]
  },
  {
   "cell_type": "markdown",
   "metadata": {},
   "source": [
    "## Random round"
   ]
  },
  {
   "cell_type": "code",
   "execution_count": 191,
   "metadata": {
    "ExecuteTime": {
     "end_time": "2019-11-12T19:02:44.949677Z",
     "start_time": "2019-11-12T19:02:44.940688Z"
    }
   },
   "outputs": [
    {
     "name": "stdout",
     "output_type": "stream",
     "text": [
      "x  \n",
      "x  \n",
      "xoo\n",
      "Last player: cross\n",
      "Game progress: cross wins\n"
     ]
    }
   ],
   "source": [
    "game = TicTacToeSmall()\n",
    "done = False\n",
    "player = np.random.choice(['circle', 'cross'])\n",
    "\n",
    "while done != True:\n",
    "    action_index = np.random.randint(len(game.action_space))\n",
    "    action = game.action_space[action_index]\n",
    "    board, reward, done = game.step(action, player)\n",
    "    player = switch_player(player)\n",
    "\n",
    "print(board_to_str(game.board))\n",
    "print(f'Last player: {game.side}')\n",
    "if game.progress == 'draw':\n",
    "    print(f'Game progress: {game.progress}')\n",
    "elif game.progress == 'win':\n",
    "    print(f'Game progress: {game.side} {game.progress}s')"
   ]
  },
  {
   "cell_type": "markdown",
   "metadata": {},
   "source": [
    "## Tabular value lookup + MCTS ()\n",
    "- How MCTS works, what is the algorithm?\n",
    "- How these two work together? Make tabular value and neural network modular"
   ]
  },
  {
   "cell_type": "code",
   "execution_count": null,
   "metadata": {},
   "outputs": [],
   "source": []
  },
  {
   "cell_type": "code",
   "execution_count": null,
   "metadata": {},
   "outputs": [],
   "source": []
  },
  {
   "cell_type": "code",
   "execution_count": null,
   "metadata": {},
   "outputs": [],
   "source": []
  },
  {
   "cell_type": "markdown",
   "metadata": {},
   "source": [
    "## Neural network as value approximator + MCTS"
   ]
  },
  {
   "cell_type": "code",
   "execution_count": null,
   "metadata": {},
   "outputs": [],
   "source": []
  },
  {
   "cell_type": "code",
   "execution_count": null,
   "metadata": {},
   "outputs": [],
   "source": []
  },
  {
   "cell_type": "code",
   "execution_count": null,
   "metadata": {},
   "outputs": [],
   "source": []
  },
  {
   "cell_type": "code",
   "execution_count": null,
   "metadata": {},
   "outputs": [],
   "source": []
  }
 ],
 "metadata": {
  "kernelspec": {
   "display_name": "Python 3",
   "language": "python",
   "name": "python3"
  },
  "language_info": {
   "codemirror_mode": {
    "name": "ipython",
    "version": 3
   },
   "file_extension": ".py",
   "mimetype": "text/x-python",
   "name": "python",
   "nbconvert_exporter": "python",
   "pygments_lexer": "ipython3",
   "version": "3.6.5"
  },
  "toc": {
   "base_numbering": 1,
   "nav_menu": {},
   "number_sections": false,
   "sideBar": true,
   "skip_h1_title": false,
   "title_cell": "Table of Contents",
   "title_sidebar": "Contents",
   "toc_cell": false,
   "toc_position": {},
   "toc_section_display": true,
   "toc_window_display": false
  }
 },
 "nbformat": 4,
 "nbformat_minor": 2
}
